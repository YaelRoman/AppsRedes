{
 "cells": [
  {
   "cell_type": "code",
   "execution_count": 1,
   "id": "5086126c-d124-41a3-8498-ad53663d5d53",
   "metadata": {},
   "outputs": [],
   "source": [
    "x=6\n",
    "y=7"
   ]
  },
  {
   "cell_type": "code",
   "execution_count": 10,
   "id": "dd47b810-f62f-4f57-b6be-f4ba8ff67cb9",
   "metadata": {},
   "outputs": [
    {
     "name": "stdout",
     "output_type": "stream",
     "text": [
      "13\n",
      "Hola mundo en Jupyter\n"
     ]
    }
   ],
   "source": [
    "print(x+y)\n",
    "print('Hola mundo en Jupyter')"
   ]
  },
  {
   "cell_type": "code",
   "execution_count": 3,
   "id": "6c465ad7-26d9-4bdf-bbe3-801a6b3c5083",
   "metadata": {},
   "outputs": [],
   "source": [
    "from scipy import linalg"
   ]
  },
  {
   "cell_type": "code",
   "execution_count": 4,
   "id": "40832484-6a6e-4c05-8742-cd8392bf605d",
   "metadata": {},
   "outputs": [],
   "source": [
    "import numpy as np"
   ]
  },
  {
   "cell_type": "code",
   "execution_count": 5,
   "id": "9e028e79-683c-44c8-b643-d304084b3506",
   "metadata": {},
   "outputs": [],
   "source": [
    "a = np.array([[1,0,3],[0,1,-2],[1,1,2]])"
   ]
  },
  {
   "cell_type": "code",
   "execution_count": null,
   "id": "60cea28e-4976-415b-8bd9-2276af643f22",
   "metadata": {},
   "outputs": [
    {
     "data": {
      "text/plain": [
       "array([[ 1,  0,  3],\n",
       "       [ 0,  1, -2],\n",
       "       [ 1,  1,  2]])"
      ]
     },
     "execution_count": 6,
     "metadata": {},
     "output_type": "execute_result"
    }
   ],
   "source": [
    "a "
   ]
  },
  {
   "cell_type": "code",
   "execution_count": 7,
   "id": "4ecbf9d0-d28f-41b6-a65f-d0f1f026b266",
   "metadata": {},
   "outputs": [
    {
     "data": {
      "text/plain": [
       "np.float64(0.9999999999999998)"
      ]
     },
     "execution_count": 7,
     "metadata": {},
     "output_type": "execute_result"
    }
   ],
   "source": [
    "linalg.det(a)"
   ]
  },
  {
   "cell_type": "code",
   "execution_count": 8,
   "id": "bc7f1384-9a66-4fee-aa4c-c09001daf3ff",
   "metadata": {},
   "outputs": [
    {
     "data": {
      "text/plain": [
       "array([[1., 0., 0.],\n",
       "       [0., 1., 0.],\n",
       "       [0., 0., 1.]])"
      ]
     },
     "execution_count": 8,
     "metadata": {},
     "output_type": "execute_result"
    }
   ],
   "source": [
    "b = linalg.inv(a)\n",
    "np.dot(a,b)"
   ]
  },
  {
   "cell_type": "code",
   "execution_count": null,
   "id": "094b60a6-4090-42ca-add6-99f7da4af62c",
   "metadata": {},
   "outputs": [
    {
     "data": {
      "text/plain": [
       "array([2., 1.])"
      ]
     },
     "execution_count": 9,
     "metadata": {},
     "output_type": "execute_result"
    }
   ],
   "source": [
    "a=np.array([\n",
    "            [3,2],\n",
    "            [1,1]\n",
    "           ])\n",
    "b=np.array([8,3])\n",
    "linalg.solve(a,b)\n",
    "\n",
    "\n"
   ]
  }
 ],
 "metadata": {
  "kernelspec": {
   "display_name": "base",
   "language": "python",
   "name": "python3"
  },
  "language_info": {
   "codemirror_mode": {
    "name": "ipython",
    "version": 3
   },
   "file_extension": ".py",
   "mimetype": "text/x-python",
   "name": "python",
   "nbconvert_exporter": "python",
   "pygments_lexer": "ipython3",
   "version": "3.13.5"
  }
 },
 "nbformat": 4,
 "nbformat_minor": 5
}
